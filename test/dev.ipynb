{
 "cells": [
  {
   "cell_type": "code",
   "execution_count": 74,
   "metadata": {},
   "outputs": [],
   "source": [
    "import random\n",
    "import numpy as np\n",
    "from math import sqrt\n",
    "from sklearn.preprocessing import normalize as sknormalize\n",
    "\n",
    "class Ondisk_KMeans:\n",
    "    def __init__(self, n_clusters, max_iter=20, tol=0.001, metric='cosine', verbose=True):\n",
    "        self.n_clusters = n_clusters\n",
    "        self.max_iter = max_iter\n",
    "        self.tol = tol if 0 <= tol < 1 else 0.001\n",
    "        self.verbose = verbose\n",
    "        self.metric = metric\n",
    "        self._distance = self._euclidean if metric == 'euclidean' else self._cosine\n",
    "        \n",
    "        self.labels = None\n",
    "\n",
    "    def _euclidean(self, query, centroid):\n",
    "        \"\"\"query: {term:count}\n",
    "        centroid: list of float - like\n",
    "        \"\"\"\n",
    "        return 0\n",
    "    \n",
    "    def _cosine(self, query, centroid):\n",
    "        \"\"\"query: {term:count}\n",
    "        centroid: list of float - like\n",
    "        \"\"\"\n",
    "        sim = sum({v*centroid[j] for j,v in query.items()})\n",
    "        return 1 - sim\n",
    "    \n",
    "    def _most_similar(self, j_dict):\n",
    "        cdist = [self._distance(j_dict, centroid) for centroid in self.c0]\n",
    "        return sorted(enumerate(cdist), key=lambda x:x[1])[0][0]\n",
    "    \n",
    "    def fit_predict(self, mm_fname):\n",
    "        mm = MatrixMarket(mm_fname)\n",
    "        self._initialize(mm)\n",
    "\n",
    "        mm.iter_line = False\n",
    "        for n_iter in range(1, self.max_iter+1):\n",
    "            c1 = np.zeros((self.n_clusters, self.n_words))\n",
    "            self.labels = [-1] * self.n_docs\n",
    "            for n_nonempty_doc, (i, j_dict) in enumerate(mm):\n",
    "                best_c = self._most_similar(j_dict)\n",
    "                self.labels[i] = best_c\n",
    "                for j, v in j_dict.items():\n",
    "                    c1[best_c,j] += v\n",
    "                if self.verbose and n_nonempty_doc % 100 == 99:\n",
    "                    print('\\r  - iter = {} / {}, {} %'.format(n_iter, self.max_iter, '%.2f'%(100*n_nonempty_doc/self._n_nonempty_docs)), flush=True, end='')\n",
    "            self.c0 = sknormalize(c1)\n",
    "            if self.verbose:\n",
    "                print('\\rIteration = {} was done{}'.format(n_iter, ' '*40), flush=True)\n",
    "\n",
    "    def _initialize(self, mm):\n",
    "        self.n_docs, self.n_words, self.n_elements = mm.n_rows, mm.n_cols, mm.n_elements\n",
    "        # Scanning document idx\n",
    "        docs_set = set()\n",
    "        for n_row, (i, _, _) in enumerate(mm):\n",
    "            if self.verbose and n_row % 5000 == 4999:\n",
    "                print('\\r  - scanning document idx {} %'.format('%.2f'%(100*n_row/self.n_elements)), flush=True, end='')\n",
    "            if not i in docs_set:\n",
    "                docs_set.add(i)\n",
    "        self._n_nonempty_docs = len(docs_set)\n",
    "        self.c0 = np.zeros((self.n_clusters, self.n_words))\n",
    "                \n",
    "        # Select seeds\n",
    "        if self.verbose:\n",
    "            print('\\r  - initialize centroids', flush=True, end='')\n",
    "        seeds = random.sample(docs_set, self.n_clusters)\n",
    "        mm.iter_line = False\n",
    "        _c0_index = 0\n",
    "        for i, j_dict in mm:\n",
    "            if i in seeds:\n",
    "                for j, v in j_dict.items():\n",
    "                    self.c0[_c0_index,j] = v\n",
    "                _c0_index += 1\n",
    "            if _c0_index == (self.n_clusters):\n",
    "                break\n",
    "        if self.verbose:\n",
    "            print('\\rInitialization was done{}'.format(' '*40), flush=True)\n",
    "        \n",
    "class MatrixMarket:\n",
    "    def __init__(self, mm_fname, iter_line=True, do_normalize=True):\n",
    "        self.fname = mm_fname\n",
    "        self.iter_line = iter_line\n",
    "        self.do_normalize = do_normalize\n",
    "        with open(mm_fname, encoding='utf-8') as f:\n",
    "            for _ in range(2):\n",
    "                next(f)\n",
    "            self.n_rows, self.n_cols, self.n_elements = [int(v) for v in next(f).split()]\n",
    "\n",
    "    def __iter__(self):\n",
    "        with open(self.fname, encoding='utf-8') as f:\n",
    "            for _ in range(3):\n",
    "                next(f)\n",
    "            self._n_iter = 0\n",
    "            if self.iter_line:\n",
    "                for row in f:\n",
    "                    self._n_iter += 1\n",
    "                    i,j,v = row.split()\n",
    "                    yield int(i)-1, int(j)-1, float(v)\n",
    "            else:\n",
    "                i_prev = -1\n",
    "                d = {}\n",
    "                for row in f:\n",
    "                    self._n_iter += 1\n",
    "                    i,j,v = row.split()\n",
    "                    i, j, v = int(i)-1, int(j)-1, float(v)\n",
    "                    if i != i_prev:\n",
    "                        if d:\n",
    "                            if self.do_normalize:\n",
    "                                yield i_prev, self._normalize(d)\n",
    "                            else:\n",
    "                                yield i_prev, d\n",
    "                        d = {}\n",
    "                    i_prev = i\n",
    "                    d[j] = v\n",
    "                if d:\n",
    "                    if self.do_normalize:\n",
    "                        yield i_prev, self._normalize(d)\n",
    "                    else:\n",
    "                        yield i_prev, d\n",
    "\n",
    "    def _normalize(self, d):\n",
    "        sum_ = sum([v**2 for v in d.values()])\n",
    "        return {k:sqrt(v**2/sum_) for k,v in d.items()}\n",
    "        \n",
    "    def __str__(self):\n",
    "        return 'MatrixMarket file (n_rows={}, n_cols={}, n_elements={})'.format(self.n_rows, self.n_cols, self.n_elements)"
   ]
  },
  {
   "cell_type": "code",
   "execution_count": 75,
   "metadata": {},
   "outputs": [
    {
     "name": "stdout",
     "output_type": "stream",
     "text": [
      "Initialization was done                                        \n",
      "Iteration = 1 was done                                        \n",
      "Iteration = 2 was done                                        \n",
      "Iteration = 3 was done                                        \n",
      "Iteration = 4 was done                                        \n",
      "Iteration = 5 was done                                        \n"
     ]
    }
   ],
   "source": [
    "mm_fname = '/mnt/sdb2/carblog_sample/models/base_c10.mtx'\n",
    "kmeans = Ondisk_KMeans(n_clusters=10, max_iter=5)\n",
    "labels = kmeans.fit_predict(mm_fname)"
   ]
  },
  {
   "cell_type": "code",
   "execution_count": 76,
   "metadata": {},
   "outputs": [
    {
     "data": {
      "text/plain": [
       "Counter({-1: 6,\n",
       "         0: 51,\n",
       "         1: 302,\n",
       "         2: 172,\n",
       "         3: 68,\n",
       "         4: 230,\n",
       "         5: 54,\n",
       "         6: 274,\n",
       "         7: 104,\n",
       "         8: 168,\n",
       "         9: 71})"
      ]
     },
     "execution_count": 76,
     "metadata": {},
     "output_type": "execute_result"
    }
   ],
   "source": [
    "from collections import Counter\n",
    "Counter(kmeans.labels)"
   ]
  },
  {
   "cell_type": "code",
   "execution_count": 77,
   "metadata": {},
   "outputs": [
    {
     "name": "stdout",
     "output_type": "stream",
     "text": [
      "MatrixMarket file (n_rows=1500, n_cols=5555, n_elements=282538)\n"
     ]
    }
   ],
   "source": [
    "mm = MatrixMarket('/mnt/sdb2/carblog_sample/models/base_c10.mtx')\n",
    "print(mm)"
   ]
  },
  {
   "cell_type": "code",
   "execution_count": 80,
   "metadata": {},
   "outputs": [
    {
     "name": "stdout",
     "output_type": "stream",
     "text": [
      "(0, 26, 1.0)\n",
      "(0, 34, 1.0)\n",
      "(0, 38, 4.0)\n"
     ]
    }
   ],
   "source": [
    "mm.iter_line = True\n",
    "for n_row, line in enumerate(mm):\n",
    "    if n_row > 2: break\n",
    "    print(line)"
   ]
  },
  {
   "cell_type": "code",
   "execution_count": null,
   "metadata": {
    "collapsed": true
   },
   "outputs": [],
   "source": []
  }
 ],
 "metadata": {
  "kernelspec": {
   "display_name": "Python 3",
   "language": "python",
   "name": "python3"
  },
  "language_info": {
   "codemirror_mode": {
    "name": "ipython",
    "version": 3
   },
   "file_extension": ".py",
   "mimetype": "text/x-python",
   "name": "python",
   "nbconvert_exporter": "python",
   "pygments_lexer": "ipython3",
   "version": "3.6.1"
  }
 },
 "nbformat": 4,
 "nbformat_minor": 2
}
