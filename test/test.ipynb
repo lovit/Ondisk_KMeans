{
 "cells": [
  {
   "cell_type": "code",
   "execution_count": 7,
   "metadata": {
    "collapsed": true
   },
   "outputs": [],
   "source": [
    "import sys\n",
    "sys.path.append('../')"
   ]
  },
  {
   "cell_type": "code",
   "execution_count": 8,
   "metadata": {},
   "outputs": [],
   "source": [
    "import ondisk_kmeans"
   ]
  },
  {
   "cell_type": "code",
   "execution_count": 9,
   "metadata": {
    "collapsed": true
   },
   "outputs": [],
   "source": [
    "from ondisk_kmeans import Ondisk_KMeans\n",
    "from ondisk_kmeans import MatrixMarket"
   ]
  },
  {
   "cell_type": "code",
   "execution_count": 10,
   "metadata": {},
   "outputs": [
    {
     "name": "stdout",
     "output_type": "stream",
     "text": [
      "Initialization was done                                        \n",
      "Iteration = 1 was done                                        \n",
      "Iteration = 2 was done                                        \n",
      "Iteration = 3 was done                                        \n",
      "Iteration = 4 was done                                        \n",
      "Iteration = 5 was done                                        \n"
     ]
    }
   ],
   "source": [
    "mm_fname = '/mnt/sdb2/carblog_sample/models/base_c10.mtx'\n",
    "kmeans = Ondisk_KMeans(n_clusters=10, max_iter=5)\n",
    "labels = kmeans.fit_predict(mm_fname)"
   ]
  },
  {
   "cell_type": "code",
   "execution_count": 11,
   "metadata": {},
   "outputs": [
    {
     "data": {
      "text/plain": [
       "1500"
      ]
     },
     "execution_count": 11,
     "metadata": {},
     "output_type": "execute_result"
    }
   ],
   "source": [
    "len(labels)"
   ]
  },
  {
   "cell_type": "code",
   "execution_count": 12,
   "metadata": {},
   "outputs": [
    {
     "data": {
      "text/plain": [
       "Counter({-1: 6,\n",
       "         0: 36,\n",
       "         1: 59,\n",
       "         2: 60,\n",
       "         3: 66,\n",
       "         4: 48,\n",
       "         5: 356,\n",
       "         6: 69,\n",
       "         7: 283,\n",
       "         8: 415,\n",
       "         9: 102})"
      ]
     },
     "execution_count": 12,
     "metadata": {},
     "output_type": "execute_result"
    }
   ],
   "source": [
    "from collections import Counter\n",
    "Counter(kmeans.labels)"
   ]
  },
  {
   "cell_type": "code",
   "execution_count": null,
   "metadata": {
    "collapsed": true
   },
   "outputs": [],
   "source": []
  }
 ],
 "metadata": {
  "kernelspec": {
   "display_name": "Python 3",
   "language": "python",
   "name": "python3"
  },
  "language_info": {
   "codemirror_mode": {
    "name": "ipython",
    "version": 3
   },
   "file_extension": ".py",
   "mimetype": "text/x-python",
   "name": "python",
   "nbconvert_exporter": "python",
   "pygments_lexer": "ipython3",
   "version": "3.6.1"
  }
 },
 "nbformat": 4,
 "nbformat_minor": 2
}
